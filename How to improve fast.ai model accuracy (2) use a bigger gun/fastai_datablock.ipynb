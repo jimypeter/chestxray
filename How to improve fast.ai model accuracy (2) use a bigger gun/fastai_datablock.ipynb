{
 "cells": [
  {
   "cell_type": "code",
   "execution_count": 1,
   "metadata": {},
   "outputs": [],
   "source": [
    "import warnings\n",
    "warnings.filterwarnings('ignore')\n",
    "\n",
    "from fastai.vision import *"
   ]
  },
  {
   "cell_type": "code",
   "execution_count": 2,
   "metadata": {},
   "outputs": [],
   "source": [
    "data_path = Path('./chest_xray').absolute()\n",
    "model_path = Path('./model').absolute()"
   ]
  },
  {
   "cell_type": "code",
   "execution_count": null,
   "metadata": {},
   "outputs": [],
   "source": [
    "stats = ([0.48746821, 0.48746821, 0.48746821], [0.24557937, 0.24557937, 0.24557937])\n",
    "\n",
    "def valid_func(o):\n",
    "    return 'test' in str(o)\n",
    "\n",
    "def label_func(o):\n",
    "    name = o.name\n",
    "    if 'virus' in name:\n",
    "        return 'virus'\n",
    "    if 'bacteria' in name:\n",
    "        return 'bacteria'\n",
    "    return 'normal'\n",
    "\n",
    "data = (ImageList.from_folder(data_path)\n",
    "        .split_by_valid_func(valid_func)\n",
    "        .label_from_func(label_func)\n",
    "        .transform(get_transforms(), size=256)\n",
    "        .databunch()\n",
    "        .normalize(stats)\n",
    "        )\n",
    "\n",
    "data, data.classes"
   ]
  },
  {
   "cell_type": "code",
   "execution_count": null,
   "metadata": {},
   "outputs": [],
   "source": []
  }
 ],
 "metadata": {
  "kernelspec": {
   "display_name": "Python 3",
   "language": "python",
   "name": "python3"
  },
  "language_info": {
   "codemirror_mode": {
    "name": "ipython",
    "version": 3
   },
   "file_extension": ".py",
   "mimetype": "text/x-python",
   "name": "python",
   "nbconvert_exporter": "python",
   "pygments_lexer": "ipython3",
   "version": "3.7.6"
  }
 },
 "nbformat": 4,
 "nbformat_minor": 4
}
