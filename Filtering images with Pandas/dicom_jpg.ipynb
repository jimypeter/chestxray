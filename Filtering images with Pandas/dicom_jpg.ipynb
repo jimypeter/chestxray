{
 "cells": [
  {
   "cell_type": "code",
   "execution_count": 1,
   "metadata": {},
   "outputs": [],
   "source": [
    "import pydicom\n",
    "import cv2\n",
    "import os\n",
    "import dask\n",
    "from dask.diagnostics import ProgressBar\n",
    "from pathlib import Path"
   ]
  },
  {
   "cell_type": "code",
   "execution_count": 2,
   "metadata": {},
   "outputs": [
    {
     "data": {
      "text/plain": [
       "3000"
      ]
     },
     "execution_count": 2,
     "metadata": {},
     "output_type": "execute_result"
    }
   ],
   "source": [
    "data_dir = Path('./stage_2_test_images/')\n",
    "out_dir = \"./test/\"\n",
    "\n",
    "dcm_files = list(data_dir.glob(\"*.dcm\"))\n",
    "\n",
    "if not os.path.exists(out_dir):\n",
    "    os.mkdir(out_dir)\n",
    "    \n",
    "len(dcm_files)"
   ]
  },
  {
   "cell_type": "code",
   "execution_count": 3,
   "metadata": {},
   "outputs": [],
   "source": [
    "@dask.delayed\n",
    "def dcm_to_jpg_dask(filepath):\n",
    "    ds = pydicom.read_file(str(filepath))\n",
    "    img = ds.pixel_array\n",
    "\n",
    "    dcm_file_name = filepath.parts[-1]\n",
    "    jpg_file_name = dcm_file_name.replace('.dcm','.jpg')\n",
    "    cv2.imwrite(out_dir + jpg_file_name, img)"
   ]
  },
  {
   "cell_type": "code",
   "execution_count": 4,
   "metadata": {},
   "outputs": [
    {
     "name": "stdout",
     "output_type": "stream",
     "text": [
      "[########################################] | 100% Completed | 14.3s\n"
     ]
    }
   ],
   "source": [
    "tasks = [dcm_to_jpg_dask(filepath) for filepath in dcm_files]\n",
    "with ProgressBar():\n",
    "    dask.compute(tasks, scheduler='processes', num_workers=8)"
   ]
  },
  {
   "cell_type": "code",
   "execution_count": null,
   "metadata": {},
   "outputs": [],
   "source": []
  }
 ],
 "metadata": {
  "kernelspec": {
   "display_name": "Python 3",
   "language": "python",
   "name": "python3"
  },
  "language_info": {
   "codemirror_mode": {
    "name": "ipython",
    "version": 3
   },
   "file_extension": ".py",
   "mimetype": "text/x-python",
   "name": "python",
   "nbconvert_exporter": "python",
   "pygments_lexer": "ipython3",
   "version": "3.7.6"
  }
 },
 "nbformat": 4,
 "nbformat_minor": 4
}
