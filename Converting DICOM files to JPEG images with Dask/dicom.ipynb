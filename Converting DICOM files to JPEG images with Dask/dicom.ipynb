{
 "cells": [
  {
   "cell_type": "code",
   "execution_count": 18,
   "metadata": {},
   "outputs": [],
   "source": [
    "import pydicom\n",
    "import cv2\n",
    "import os\n",
    "import dask\n",
    "from tqdm.notebook import tqdm\n",
    "from dask.diagnostics import ProgressBar\n",
    "from pathlib import Path"
   ]
  },
  {
   "cell_type": "code",
   "execution_count": 2,
   "metadata": {},
   "outputs": [
    {
     "data": {
      "text/plain": [
       "3205"
      ]
     },
     "execution_count": 2,
     "metadata": {},
     "output_type": "execute_result"
    }
   ],
   "source": [
    "data_dir = Path('./stage_2_images/')\n",
    "\n",
    "dcm_files = list(data_dir.glob(\"*.dcm\"))\n",
    "len(dcm_files)"
   ]
  },
  {
   "cell_type": "code",
   "execution_count": 3,
   "metadata": {},
   "outputs": [],
   "source": [
    "outdir = \"./jpg/\"\n",
    "\n",
    "if not os.path.exists(outdir):\n",
    "    os.mkdir(outdir)"
   ]
  },
  {
   "cell_type": "code",
   "execution_count": 6,
   "metadata": {},
   "outputs": [],
   "source": [
    "def dcm_to_jpg(filepath):\n",
    "    ds = pydicom.read_file(str(filepath))\n",
    "    img = ds.pixel_array\n",
    "\n",
    "    dcm_file_name = filepath.parts[-1]\n",
    "    jpg_file_name = dcm_file_name.replace('.dcm','.jpg')\n",
    "    cv2.imwrite(outdir + jpg_file_name, img)"
   ]
  },
  {
   "cell_type": "code",
   "execution_count": 7,
   "metadata": {},
   "outputs": [
    {
     "data": {
      "application/vnd.jupyter.widget-view+json": {
       "model_id": "1f86b94df2ca4c6ead67749b4382bab3",
       "version_major": 2,
       "version_minor": 0
      },
      "text/plain": [
       "HBox(children=(FloatProgress(value=0.0, max=3205.0), HTML(value='')))"
      ]
     },
     "metadata": {},
     "output_type": "display_data"
    },
    {
     "name": "stdout",
     "output_type": "stream",
     "text": [
      "\n"
     ]
    }
   ],
   "source": [
    "for f in tqdm(dcm_files):\n",
    "    dcm_to_jpg(f)"
   ]
  },
  {
   "cell_type": "code",
   "execution_count": 20,
   "metadata": {},
   "outputs": [],
   "source": [
    "@dask.delayed\n",
    "def dcm_to_jpg_dask(filepath):\n",
    "    ds = pydicom.read_file(str(filepath))\n",
    "    img = ds.pixel_array\n",
    "\n",
    "    dcm_file_name = filepath.parts[-1]\n",
    "    jpg_file_name = dcm_file_name.replace('.dcm','.jpg')\n",
    "    cv2.imwrite(outdir + jpg_file_name, img)"
   ]
  },
  {
   "cell_type": "code",
   "execution_count": 21,
   "metadata": {},
   "outputs": [
    {
     "name": "stdout",
     "output_type": "stream",
     "text": [
      "[########################################] | 100% Completed | 19.6s\n"
     ]
    }
   ],
   "source": [
    "tasks = [dcm_to_jpg_dask(filepath) for filepath in dcm_files]\n",
    "with ProgressBar():\n",
    "    dask.compute(tasks)"
   ]
  },
  {
   "cell_type": "code",
   "execution_count": null,
   "metadata": {},
   "outputs": [],
   "source": []
  }
 ],
 "metadata": {
  "kernelspec": {
   "display_name": "Python 3",
   "language": "python",
   "name": "python3"
  },
  "language_info": {
   "codemirror_mode": {
    "name": "ipython",
    "version": 3
   },
   "file_extension": ".py",
   "mimetype": "text/x-python",
   "name": "python",
   "nbconvert_exporter": "python",
   "pygments_lexer": "ipython3",
   "version": "3.7.7"
  }
 },
 "nbformat": 4,
 "nbformat_minor": 4
}
