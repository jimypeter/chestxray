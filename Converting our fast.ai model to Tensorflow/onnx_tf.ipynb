{
 "cells": [
  {
   "cell_type": "code",
   "execution_count": 1,
   "metadata": {},
   "outputs": [
    {
     "name": "stdout",
     "output_type": "stream",
     "text": [
      "WARNING:tensorflow:From C:\\conda\\envs\\tf115\\lib\\site-packages\\onnx_tf\\handlers\\backend\\ceil.py:10: The name tf.ceil is deprecated. Please use tf.math.ceil instead.\n",
      "\n",
      "WARNING:tensorflow:From C:\\conda\\envs\\tf115\\lib\\site-packages\\onnx_tf\\handlers\\backend\\depth_to_space.py:12: The name tf.depth_to_space is deprecated. Please use tf.compat.v1.depth_to_space instead.\n",
      "\n",
      "WARNING:tensorflow:From C:\\conda\\envs\\tf115\\lib\\site-packages\\onnx_tf\\handlers\\backend\\erf.py:9: The name tf.erf is deprecated. Please use tf.math.erf instead.\n",
      "\n",
      "WARNING:tensorflow:\n",
      "The TensorFlow contrib module will not be included in TensorFlow 2.0.\n",
      "For more information, please see:\n",
      "  * https://github.com/tensorflow/community/blob/master/rfcs/20180907-contrib-sunset.md\n",
      "  * https://github.com/tensorflow/addons\n",
      "  * https://github.com/tensorflow/io (for I/O related ops)\n",
      "If you depend on functionality not listed there, please file an issue.\n",
      "\n"
     ]
    },
    {
     "name": "stderr",
     "output_type": "stream",
     "text": [
      "C:\\conda\\envs\\tf115\\lib\\site-packages\\onnx_tf\\common\\__init__.py:89: UserWarning: onnx_tf.common.get_outputs_names is deprecated. It will be removed in future release. Use TensorflowGraph.get_outputs_names instead.\n",
      "  warnings.warn(message)\n"
     ]
    },
    {
     "name": "stdout",
     "output_type": "stream",
     "text": [
      "WARNING:tensorflow:From C:\\conda\\envs\\tf115\\lib\\site-packages\\onnx_tf\\handlers\\backend\\is_nan.py:9: The name tf.is_nan is deprecated. Please use tf.math.is_nan instead.\n",
      "\n",
      "WARNING:tensorflow:From C:\\conda\\envs\\tf115\\lib\\site-packages\\onnx_tf\\handlers\\backend\\log.py:10: The name tf.log is deprecated. Please use tf.math.log instead.\n",
      "\n",
      "WARNING:tensorflow:From C:\\conda\\envs\\tf115\\lib\\site-packages\\onnx_tf\\handlers\\backend\\random_normal.py:9: The name tf.random_normal is deprecated. Please use tf.random.normal instead.\n",
      "\n",
      "WARNING:tensorflow:From C:\\conda\\envs\\tf115\\lib\\site-packages\\onnx_tf\\handlers\\backend\\random_uniform.py:9: The name tf.random_uniform is deprecated. Please use tf.random.uniform instead.\n",
      "\n",
      "WARNING:tensorflow:From C:\\conda\\envs\\tf115\\lib\\site-packages\\onnx_tf\\handlers\\backend\\reciprocal.py:10: The name tf.reciprocal is deprecated. Please use tf.math.reciprocal instead.\n",
      "\n",
      "WARNING:tensorflow:From C:\\conda\\envs\\tf115\\lib\\site-packages\\onnx_tf\\handlers\\backend\\space_to_depth.py:12: The name tf.space_to_depth is deprecated. Please use tf.compat.v1.space_to_depth instead.\n",
      "\n",
      "WARNING:tensorflow:From C:\\conda\\envs\\tf115\\lib\\site-packages\\onnx_tf\\handlers\\backend\\upsample.py:15: The name tf.image.resize_images is deprecated. Please use tf.image.resize instead.\n",
      "\n",
      "WARNING:tensorflow:From C:\\conda\\envs\\tf115\\lib\\site-packages\\onnx_tf\\handlers\\backend\\xor.py:10: The name tf.logical_xor is deprecated. Please use tf.math.logical_xor instead.\n",
      "\n"
     ]
    }
   ],
   "source": [
    "import onnx\n",
    "from onnx_tf.backend import prepare\n",
    "import numpy as np\n",
    "from PIL import Image"
   ]
  },
  {
   "cell_type": "code",
   "execution_count": 2,
   "metadata": {},
   "outputs": [
    {
     "name": "stderr",
     "output_type": "stream",
     "text": [
      "C:\\conda\\envs\\tf115\\lib\\site-packages\\onnx_tf\\common\\handler_helper.py:37: UserWarning: Unknown op ConstantFill in domain `ai.onnx`.\n",
      "  handler.ONNX_OP, handler.DOMAIN or \"ai.onnx\"))\n",
      "C:\\conda\\envs\\tf115\\lib\\site-packages\\onnx_tf\\common\\handler_helper.py:34: UserWarning: Fail to get since_version of ConvInteger in domain `` with max_inclusive_version=9. Set to 1.\n",
      "  handler.ONNX_OP, handler.DOMAIN, version))\n",
      "C:\\conda\\envs\\tf115\\lib\\site-packages\\onnx_tf\\common\\handler_helper.py:34: UserWarning: Fail to get since_version of DequantizeLinear in domain `` with max_inclusive_version=9. Set to 1.\n",
      "  handler.ONNX_OP, handler.DOMAIN, version))\n",
      "C:\\conda\\envs\\tf115\\lib\\site-packages\\onnx_tf\\common\\handler_helper.py:34: UserWarning: Fail to get since_version of GatherND in domain `` with max_inclusive_version=9. Set to 1.\n",
      "  handler.ONNX_OP, handler.DOMAIN, version))\n",
      "C:\\conda\\envs\\tf115\\lib\\site-packages\\onnx_tf\\common\\handler_helper.py:37: UserWarning: Unknown op ImageScaler in domain `ai.onnx`.\n",
      "  handler.ONNX_OP, handler.DOMAIN or \"ai.onnx\"))\n",
      "C:\\conda\\envs\\tf115\\lib\\site-packages\\onnx_tf\\common\\handler_helper.py:34: UserWarning: Fail to get since_version of IsInf in domain `` with max_inclusive_version=9. Set to 1.\n",
      "  handler.ONNX_OP, handler.DOMAIN, version))\n",
      "C:\\conda\\envs\\tf115\\lib\\site-packages\\onnx_tf\\common\\handler_helper.py:34: UserWarning: Fail to get since_version of MatMulInteger in domain `` with max_inclusive_version=9. Set to 1.\n",
      "  handler.ONNX_OP, handler.DOMAIN, version))\n",
      "C:\\conda\\envs\\tf115\\lib\\site-packages\\onnx_tf\\common\\handler_helper.py:34: UserWarning: Fail to get since_version of Mod in domain `` with max_inclusive_version=9. Set to 1.\n",
      "  handler.ONNX_OP, handler.DOMAIN, version))\n",
      "C:\\conda\\envs\\tf115\\lib\\site-packages\\onnx_tf\\common\\handler_helper.py:34: UserWarning: Fail to get since_version of NonMaxSuppression in domain `` with max_inclusive_version=9. Set to 1.\n",
      "  handler.ONNX_OP, handler.DOMAIN, version))\n",
      "C:\\conda\\envs\\tf115\\lib\\site-packages\\onnx_tf\\common\\handler_helper.py:34: UserWarning: Fail to get since_version of QLinearConv in domain `` with max_inclusive_version=9. Set to 1.\n",
      "  handler.ONNX_OP, handler.DOMAIN, version))\n",
      "C:\\conda\\envs\\tf115\\lib\\site-packages\\onnx_tf\\common\\handler_helper.py:34: UserWarning: Fail to get since_version of QLinearMatMul in domain `` with max_inclusive_version=9. Set to 1.\n",
      "  handler.ONNX_OP, handler.DOMAIN, version))\n",
      "C:\\conda\\envs\\tf115\\lib\\site-packages\\onnx_tf\\common\\handler_helper.py:34: UserWarning: Fail to get since_version of QuantizeLinear in domain `` with max_inclusive_version=9. Set to 1.\n",
      "  handler.ONNX_OP, handler.DOMAIN, version))\n",
      "C:\\conda\\envs\\tf115\\lib\\site-packages\\onnx_tf\\common\\handler_helper.py:34: UserWarning: Fail to get since_version of Range in domain `` with max_inclusive_version=9. Set to 1.\n",
      "  handler.ONNX_OP, handler.DOMAIN, version))\n",
      "C:\\conda\\envs\\tf115\\lib\\site-packages\\onnx_tf\\common\\handler_helper.py:34: UserWarning: Fail to get since_version of Resize in domain `` with max_inclusive_version=9. Set to 1.\n",
      "  handler.ONNX_OP, handler.DOMAIN, version))\n",
      "C:\\conda\\envs\\tf115\\lib\\site-packages\\onnx_tf\\common\\handler_helper.py:34: UserWarning: Fail to get since_version of ReverseSequence in domain `` with max_inclusive_version=9. Set to 1.\n",
      "  handler.ONNX_OP, handler.DOMAIN, version))\n",
      "C:\\conda\\envs\\tf115\\lib\\site-packages\\onnx_tf\\common\\handler_helper.py:34: UserWarning: Fail to get since_version of Round in domain `` with max_inclusive_version=9. Set to 1.\n",
      "  handler.ONNX_OP, handler.DOMAIN, version))\n",
      "C:\\conda\\envs\\tf115\\lib\\site-packages\\onnx_tf\\common\\handler_helper.py:34: UserWarning: Fail to get since_version of ScatterElements in domain `` with max_inclusive_version=9. Set to 1.\n",
      "  handler.ONNX_OP, handler.DOMAIN, version))\n",
      "C:\\conda\\envs\\tf115\\lib\\site-packages\\onnx_tf\\common\\handler_helper.py:34: UserWarning: Fail to get since_version of ScatterND in domain `` with max_inclusive_version=9. Set to 1.\n",
      "  handler.ONNX_OP, handler.DOMAIN, version))\n",
      "C:\\conda\\envs\\tf115\\lib\\site-packages\\onnx_tf\\common\\handler_helper.py:34: UserWarning: Fail to get since_version of ThresholdedRelu in domain `` with max_inclusive_version=9. Set to 1.\n",
      "  handler.ONNX_OP, handler.DOMAIN, version))\n"
     ]
    },
    {
     "name": "stdout",
     "output_type": "stream",
     "text": [
      "WARNING:tensorflow:From C:\\conda\\envs\\tf115\\lib\\site-packages\\onnx_tf\\backend.py:123: The name tf.placeholder is deprecated. Please use tf.compat.v1.placeholder instead.\n",
      "\n",
      "WARNING:tensorflow:From C:\\conda\\envs\\tf115\\lib\\site-packages\\onnx_tf\\handlers\\backend_handler.py:182: div (from tensorflow.python.ops.math_ops) is deprecated and will be removed in a future version.\n",
      "Instructions for updating:\n",
      "Deprecated in favor of operator or tf.math.divide.\n",
      "WARNING:tensorflow:From C:\\conda\\envs\\tf115\\lib\\site-packages\\onnx_tf\\handlers\\backend\\reshape.py:26: where (from tensorflow.python.ops.array_ops) is deprecated and will be removed in a future version.\n",
      "Instructions for updating:\n",
      "Use tf.where in 2.0, which has the same broadcast rule as np.where\n",
      "WARNING:tensorflow:From C:\\conda\\envs\\tf115\\lib\\site-packages\\onnx_tf\\handlers\\backend\\reshape.py:31: sparse_to_dense (from tensorflow.python.ops.sparse_ops) is deprecated and will be removed in a future version.\n",
      "Instructions for updating:\n",
      "Create a `tf.sparse.SparseTensor` and use `tf.sparse.to_dense` instead.\n",
      "WARNING:tensorflow:From C:\\conda\\envs\\tf115\\lib\\site-packages\\onnx_tf\\handlers\\backend\\gemm.py:14: flatten (from tensorflow.python.layers.core) is deprecated and will be removed in a future version.\n",
      "Instructions for updating:\n",
      "Use keras.layers.flatten instead.\n",
      "WARNING:tensorflow:From C:\\conda\\envs\\tf115\\lib\\site-packages\\tensorflow_core\\python\\layers\\core.py:332: Layer.apply (from tensorflow.python.keras.engine.base_layer) is deprecated and will be removed in a future version.\n",
      "Instructions for updating:\n",
      "Please use `layer.__call__` method instead.\n"
     ]
    }
   ],
   "source": [
    "model = onnx.load('pneumonia.onnx')\n",
    "tf_rep = prepare(model, strict=False)"
   ]
  },
  {
   "cell_type": "code",
   "execution_count": 3,
   "metadata": {},
   "outputs": [
    {
     "data": {
      "text/plain": [
       "((3, 256, 256), dtype('float32'))"
      ]
     },
     "execution_count": 3,
     "metadata": {},
     "output_type": "execute_result"
    }
   ],
   "source": [
    "img = Image.open('pneumonia.jpeg')\n",
    "img = img.resize((256, 256))\n",
    "img = img.convert('RGB')\n",
    "img_data = np.asarray(img).astype('float32').transpose(2, 0, 1)\n",
    "img_data.shape, img_data.dtype"
   ]
  },
  {
   "cell_type": "code",
   "execution_count": 4,
   "metadata": {},
   "outputs": [
    {
     "name": "stdout",
     "output_type": "stream",
     "text": [
      "WARNING:tensorflow:From C:\\conda\\envs\\tf115\\lib\\site-packages\\onnx_tf\\backend_rep.py:63: The name tf.Session is deprecated. Please use tf.compat.v1.Session instead.\n",
      "\n",
      "WARNING:tensorflow:From C:\\conda\\envs\\tf115\\lib\\site-packages\\onnx_tf\\backend_rep.py:81: The name tf.global_variables_initializer is deprecated. Please use tf.compat.v1.global_variables_initializer instead.\n",
      "\n"
     ]
    },
    {
     "data": {
      "text/plain": [
       "Outputs(diagnosis=array([[0.05699854, 0.94300145]], dtype=float32))"
      ]
     },
     "execution_count": 4,
     "metadata": {},
     "output_type": "execute_result"
    }
   ],
   "source": [
    "result = tf_rep.run(img_data)\n",
    "result"
   ]
  },
  {
   "cell_type": "code",
   "execution_count": 6,
   "metadata": {},
   "outputs": [],
   "source": [
    "tf_rep.export_graph(\"pneumonia.pb\")"
   ]
  },
  {
   "cell_type": "code",
   "execution_count": 7,
   "metadata": {},
   "outputs": [],
   "source": [
    "import tensorflow as tf"
   ]
  },
  {
   "cell_type": "code",
   "execution_count": 8,
   "metadata": {},
   "outputs": [],
   "source": [
    "graph_def = tf.compat.v1.GraphDef()\n",
    "labels = ['normal', 'pneumonia']\n",
    "\n",
    "with tf.io.gfile.GFile('pneumonia.pb', 'rb') as f:\n",
    "    graph_def.ParseFromString(f.read())\n",
    "    tf.import_graph_def(graph_def, name='')"
   ]
  },
  {
   "cell_type": "code",
   "execution_count": 9,
   "metadata": {},
   "outputs": [
    {
     "name": "stdout",
     "output_type": "stream",
     "text": [
      "(3, 256, 256)\n"
     ]
    }
   ],
   "source": [
    "with tf.compat.v1.Session() as sess:\n",
    "    input_tensor_shape = sess.graph.get_tensor_by_name('image:0').shape\n",
    "\n",
    "print(input_tensor_shape)"
   ]
  },
  {
   "cell_type": "code",
   "execution_count": 10,
   "metadata": {},
   "outputs": [],
   "source": [
    "with tf.compat.v1.Session() as sess:\n",
    "    prob_tensor = sess.graph.get_tensor_by_name('diagnosis:0')\n",
    "    predictions, = sess.run(prob_tensor, {'image:0': img_data })"
   ]
  },
  {
   "cell_type": "code",
   "execution_count": 11,
   "metadata": {},
   "outputs": [
    {
     "data": {
      "text/plain": [
       "array([0.05699854, 0.94300145], dtype=float32)"
      ]
     },
     "execution_count": 11,
     "metadata": {},
     "output_type": "execute_result"
    }
   ],
   "source": [
    "predictions"
   ]
  },
  {
   "cell_type": "code",
   "execution_count": null,
   "metadata": {},
   "outputs": [],
   "source": []
  }
 ],
 "metadata": {
  "kernelspec": {
   "display_name": "Python 3",
   "language": "python",
   "name": "python3"
  },
  "language_info": {
   "codemirror_mode": {
    "name": "ipython",
    "version": 3
   },
   "file_extension": ".py",
   "mimetype": "text/x-python",
   "name": "python",
   "nbconvert_exporter": "python",
   "pygments_lexer": "ipython3",
   "version": "3.6.10"
  }
 },
 "nbformat": 4,
 "nbformat_minor": 4
}
