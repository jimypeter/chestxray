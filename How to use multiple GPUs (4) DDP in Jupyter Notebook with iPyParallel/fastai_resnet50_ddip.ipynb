{
 "cells": [
  {
   "cell_type": "code",
   "execution_count": null,
   "metadata": {},
   "outputs": [],
   "source": [
    "# !cp -r /media/sm2/data/pneumonia /dev/shm"
   ]
  },
  {
   "cell_type": "code",
   "execution_count": 1,
   "metadata": {},
   "outputs": [
    {
     "name": "stdout",
     "output_type": "stream",
     "text": [
      "Waiting for connection file: ~/.ipython/profile_default/security/ipcontroller-ippdpp_c-client.json\n"
     ]
    }
   ],
   "source": [
    "%load_ext Ddip\n",
    "%makedip -g all -a fastai_v1 --verbose False"
   ]
  },
  {
   "cell_type": "code",
   "execution_count": 2,
   "metadata": {},
   "outputs": [
    {
     "name": "stdout",
     "output_type": "stream",
     "text": [
      "Auto Execution on DDP group: on, will run cell as %%dip\n"
     ]
    }
   ],
   "source": [
    "%autodip on"
   ]
  },
  {
   "cell_type": "code",
   "execution_count": 3,
   "metadata": {},
   "outputs": [],
   "source": [
    "import warnings\n",
    "warnings.filterwarnings('ignore')\n",
    "\n",
    "from fastai.vision import *\n",
    "from fastai.callbacks import *"
   ]
  },
  {
   "cell_type": "code",
   "execution_count": 4,
   "metadata": {},
   "outputs": [],
   "source": [
    "data_path = Path('/dev/shm/pneumonia/chest_xray')\n",
    "model_path = Path('/dev/shm/pneumonia/model')"
   ]
  },
  {
   "cell_type": "code",
   "execution_count": 5,
   "metadata": {},
   "outputs": [],
   "source": [
    "sz = 456\n",
    "lr = 0.003\n",
    "bs = 64"
   ]
  },
  {
   "cell_type": "code",
   "execution_count": 6,
   "metadata": {},
   "outputs": [
    {
     "data": {
      "text/plain": [
       "\u001b[0;31mOut[0:4]: \u001b[0m\n",
       "(ImageDataBunch;\n",
       " \n",
       " Train: LabelList (5232 items)\n",
       " x: ImageList\n",
       " Image (3, 456, 456),Image (3, 456, 456),Image (3, 456, 456),Image (3, 456, 456),Image (3, 456, 456)\n",
       " y: CategoryList\n",
       " bacteria,bacteria,bacteria,bacteria,bacteria\n",
       " Path: /dev/shm/pneumonia/chest_xray;\n",
       " \n",
       " Valid: LabelList (624 items)\n",
       " x: ImageList\n",
       " Image (3, 456, 456),Image (3, 456, 456),Image (3, 456, 456),Image (3, 456, 456),Image (3, 456, 456)\n",
       " y: CategoryList\n",
       " virus,bacteria,bacteria,virus,bacteria\n",
       " Path: /dev/shm/pneumonia/chest_xray;\n",
       " \n",
       " Test: None,\n",
       " ['bacteria', 'normal', 'virus'])"
      ]
     },
     "metadata": {
      "after": [],
      "completed": "2020-06-14T21:01:15.867713",
      "data": {},
      "engine_id": 0,
      "engine_uuid": "1648b793-4e45e15b7a621e931fae4028",
      "error": null,
      "execute_input": "stats = ([0.48746821, 0.48746821, 0.48746821], [0.24557937, 0.24557937, 0.24557937])\n\ndef valid_func(o):\n    return 'test' in str(o)\n\ndef label_func(o):\n    name = o.name\n    if 'virus' in name:\n        return 'virus'\n    if 'bacteria' in name:\n        return 'bacteria'\n    return 'normal'\n\ndata = (ImageList.from_folder(data_path)\n        .split_by_valid_func(valid_func)\n        .label_from_func(label_func)\n        .transform(get_transforms(), size=sz)\n        .databunch(bs=bs)\n        .normalize(stats)\n        )\n\ndata, data.classes\n",
      "execute_result": {
       "data": {
        "text/plain": "(ImageDataBunch;\n \n Train: LabelList (5232 items)\n x: ImageList\n Image (3, 456, 456),Image (3, 456, 456),Image (3, 456, 456),Image (3, 456, 456),Image (3, 456, 456)\n y: CategoryList\n bacteria,bacteria,bacteria,bacteria,bacteria\n Path: /dev/shm/pneumonia/chest_xray;\n \n Valid: LabelList (624 items)\n x: ImageList\n Image (3, 456, 456),Image (3, 456, 456),Image (3, 456, 456),Image (3, 456, 456),Image (3, 456, 456)\n y: CategoryList\n virus,bacteria,bacteria,virus,bacteria\n Path: /dev/shm/pneumonia/chest_xray;\n \n Test: None,\n ['bacteria', 'normal', 'virus'])"
       },
       "execution_count": 4,
       "metadata": {}
      },
      "follow": [],
      "msg_id": "ceadf44e-c39bc969f1bec8a24074f5c9_38",
      "outputs": [],
      "received": "2020-06-14T21:01:15.869586",
      "started": "2020-06-14T21:01:07.792521",
      "status": "ok",
      "stderr": "",
      "stdout": "",
      "submitted": "2020-06-14T21:01:07.788365"
     },
     "output_type": "display_data"
    }
   ],
   "source": [
    "stats = ([0.48746821, 0.48746821, 0.48746821], [0.24557937, 0.24557937, 0.24557937])\n",
    "\n",
    "def valid_func(o):\n",
    "    return 'test' in str(o)\n",
    "\n",
    "def label_func(o):\n",
    "    name = o.name\n",
    "    if 'virus' in name:\n",
    "        return 'virus'\n",
    "    if 'bacteria' in name:\n",
    "        return 'bacteria'\n",
    "    return 'normal'\n",
    "\n",
    "data = (ImageList.from_folder(data_path)\n",
    "        .split_by_valid_func(valid_func)\n",
    "        .label_from_func(label_func)\n",
    "        .transform(get_transforms(), size=sz)\n",
    "        .databunch(bs=bs)\n",
    "        .normalize(stats)\n",
    "        )\n",
    "\n",
    "data, data.classes"
   ]
  },
  {
   "cell_type": "code",
   "execution_count": 7,
   "metadata": {},
   "outputs": [],
   "source": [
    "learn = cnn_learner(data, \n",
    "                    models.resnet50,\n",
    "                    bn_wd=False,\n",
    "                    metrics=error_rate,\n",
    "                    loss_func=LabelSmoothingCrossEntropy(),\n",
    "                    callback_fns=[BnFreeze,\n",
    "                                  partial(SaveModelCallback, monitor='error_rate', name='best_error')\n",
    "                                 ],\n",
    "                   ).to_fp16()"
   ]
  },
  {
   "cell_type": "code",
   "execution_count": 8,
   "metadata": {},
   "outputs": [
    {
     "name": "stdout",
     "output_type": "stream",
     "text": [
      "epoch     train_loss  valid_loss  error_rate  time    \n",
      "0         1.258211    0.951315    0.350962    01:05                                      \n",
      "Better model found at epoch 0 with error_rate value: 0.3509615361690521.\n",
      "1         0.979518    0.664231    0.201923    01:03                                      \n",
      "Better model found at epoch 1 with error_rate value: 0.20192307233810425.\n",
      "2         0.805699    0.644186    0.185897    01:05                                      \n",
      "Better model found at epoch 2 with error_rate value: 0.18589743971824646.\n",
      "3         0.734264    0.628729    0.179487    01:02                                      \n",
      "Better model found at epoch 3 with error_rate value: 0.1794871836900711.\n",
      "4         0.689569    0.616452    0.161859    01:01                                      \n",
      "Better model found at epoch 4 with error_rate value: 0.1618589609861374.\n"
     ]
    }
   ],
   "source": [
    "learn.fit_one_cycle(5, lr)"
   ]
  },
  {
   "cell_type": "code",
   "execution_count": 9,
   "metadata": {},
   "outputs": [
    {
     "name": "stdout",
     "output_type": "stream",
     "text": [
      "epoch     train_loss  valid_loss  error_rate  time    \n",
      "0         0.633562    #na#        00:57                                                  \n",
      "1         1.217034    #na#        00:55                                                  \n",
      "2         nan         #na#        00:56                                                  \n",
      "LR Finder is complete, type {learner_name}.recorder.plot() to see the graph.\n",
      "Best loss at batch #86/120, may consider .plot(skip_end=37)\n",
      "Min numerical gradient: 1.58E+00\n",
      "Min loss divided by 10: 1.91E-01\n"
     ]
    },
    {
     "data": {
      "text/plain": [
       "[output:0]"
      ]
     },
     "metadata": {},
     "output_type": "display_data"
    },
    {
     "data": {
      "image/png": "[encoded data removed]",
      "text/plain": [
       "<Figure size 432x288 with 1 Axes>"
      ]
     },
     "metadata": {
      "engine": 0,
      "needs_background": "light"
     },
     "output_type": "display_data"
    }
   ],
   "source": [
    "learn.unfreeze()\n",
    "learn.lr_find()\n",
    "learn.recorder.plot(suggestion=True)"
   ]
  },
  {
   "cell_type": "code",
   "execution_count": 10,
   "metadata": {},
   "outputs": [
    {
     "name": "stdout",
     "output_type": "stream",
     "text": [
      "epoch     train_loss  valid_loss  error_rate  time    \n",
      "0         0.628324    0.615958    0.163462    01:03                                      \n",
      "Better model found at epoch 0 with error_rate value: 0.16346153616905212.\n",
      "1         0.635073    0.602182    0.139423    01:05                                      \n",
      "Better model found at epoch 1 with error_rate value: 0.13942305743694305.\n",
      "2         0.627867    0.605241    0.149038    01:02                                      \n",
      "3         0.619785    0.587713    0.136218    01:03                                      \n",
      "Better model found at epoch 3 with error_rate value: 0.13621793687343597.\n",
      "4         0.619870    0.597241    0.142628    01:05                                      \n"
     ]
    }
   ],
   "source": [
    "lr = 1e-4\n",
    "learn.fit_one_cycle(5, slice(lr/100, lr))"
   ]
  },
  {
   "cell_type": "code",
   "execution_count": 11,
   "metadata": {},
   "outputs": [
    {
     "name": "stdout",
     "output_type": "stream",
     "text": [
      "                                                                       \r"
     ]
    }
   ],
   "source": [
    "interp = ClassificationInterpretation.from_learner(learn)"
   ]
  },
  {
   "cell_type": "code",
   "execution_count": 12,
   "metadata": {},
   "outputs": [
    {
     "data": {
      "text/plain": [
       "[output:0]"
      ]
     },
     "metadata": {},
     "output_type": "display_data"
    },
    {
     "data": {
      "image/png": "[encoded data removed]",
      "text/plain": [
       "<Figure size 432x288 with 1 Axes>"
      ]
     },
     "metadata": {
      "engine": 0,
      "needs_background": "light"
     },
     "output_type": "display_data"
    }
   ],
   "source": [
    "interp.plot_confusion_matrix()"
   ]
  },
  {
   "cell_type": "code",
   "execution_count": null,
   "metadata": {},
   "outputs": [],
   "source": []
  }
 ],
 "metadata": {
  "kernelspec": {
   "display_name": "Python 3",
   "language": "python",
   "name": "python3"
  },
  "language_info": {
   "codemirror_mode": {
    "name": "ipython",
    "version": 3
   },
   "file_extension": ".py",
   "mimetype": "text/x-python",
   "name": "python",
   "nbconvert_exporter": "python",
   "pygments_lexer": "ipython3",
   "version": "3.7.6"
  }
 },
 "nbformat": 4,
 "nbformat_minor": 4
}
