{
 "cells": [
  {
   "cell_type": "code",
   "execution_count": 1,
   "metadata": {},
   "outputs": [],
   "source": [
    "from fastai.vision import *\n",
    "import onnx\n",
    "import onnxruntime\n",
    "from PIL import Image"
   ]
  },
  {
   "cell_type": "code",
   "execution_count": 2,
   "metadata": {},
   "outputs": [],
   "source": [
    "learn = load_learner('.')\n",
    "fastai_model = learn.model.eval()"
   ]
  },
  {
   "cell_type": "code",
   "execution_count": 3,
   "metadata": {},
   "outputs": [],
   "source": [
    "imagenet_mean, imagenet_std = torch.tensor([[0.485, 0.456, 0.406], [0.229, 0.224, 0.225]])"
   ]
  },
  {
   "cell_type": "code",
   "execution_count": 4,
   "metadata": {},
   "outputs": [],
   "source": [
    "class ImageScale(nn.Module):\n",
    "    def forward(self, x):\n",
    "        xx = (x/255.0-imagenet_mean[...,None,None]) / imagenet_std[...,None,None] \n",
    "        return xx.unsqueeze(0)\n",
    "    \n",
    "scale_layer = ImageScale()\n",
    "softmax_layer = torch.nn.Softmax(dim=1)"
   ]
  },
  {
   "cell_type": "code",
   "execution_count": 5,
   "metadata": {},
   "outputs": [],
   "source": [
    "model_name = 'pneumonia.onnx'\n",
    "session = onnxruntime.InferenceSession(model_name)"
   ]
  },
  {
   "cell_type": "code",
   "execution_count": 6,
   "metadata": {},
   "outputs": [],
   "source": [
    "image = Image.open('pneumonia.jpeg')\n",
    "image = image.resize((256, 256))\n",
    "image = image.convert(mode='RGB')\n",
    "image_data = np.array(image).transpose(2, 0, 1).astype('float32')"
   ]
  },
  {
   "cell_type": "code",
   "execution_count": 7,
   "metadata": {},
   "outputs": [
    {
     "data": {
      "text/plain": [
       "[array([[0.056997, 0.943003]], dtype=float32)]"
      ]
     },
     "execution_count": 7,
     "metadata": {},
     "output_type": "execute_result"
    }
   ],
   "source": [
    "input_name = session.get_inputs()[0].name\n",
    "onnx_result = session.run([], {input_name: image_data})\n",
    "onnx_result"
   ]
  },
  {
   "cell_type": "code",
   "execution_count": 8,
   "metadata": {},
   "outputs": [
    {
     "data": {
      "text/plain": [
       "tensor([[0.0570, 0.9430]])"
      ]
     },
     "execution_count": 8,
     "metadata": {},
     "output_type": "execute_result"
    }
   ],
   "source": [
    "image_tensor = torch.tensor(image_data)\n",
    "fastai_model = learn.model.eval()\n",
    "\n",
    "with torch.no_grad():\n",
    "    input_tensor = scale_layer(image_tensor)\n",
    "    fastai_result = fastai_model(input_tensor)\n",
    "    fastai_result = softmax_layer(fastai_result)\n",
    "\n",
    "fastai_result"
   ]
  },
  {
   "cell_type": "code",
   "execution_count": 15,
   "metadata": {},
   "outputs": [
    {
     "data": {
      "text/plain": [
       "(Category PNEUMONIA, tensor(1), tensor([0.0013, 0.9987]))"
      ]
     },
     "execution_count": 15,
     "metadata": {},
     "output_type": "execute_result"
    }
   ],
   "source": [
    "fastai_img = open_image('pneumonia.jpeg')\n",
    "learn.predict(fastai_img)"
   ]
  },
  {
   "cell_type": "code",
   "execution_count": 16,
   "metadata": {},
   "outputs": [],
   "source": [
    "def preprocess(img, sz):\n",
    "    _, r, c = img.shape\n",
    "    ratio = min(r/sz, c/sz)\n",
    "    r, c = int(round(r/ratio)), int(round(c/ratio))\n",
    "    img = img.resize((3, r, c)).data\n",
    "    \n",
    "    row = int((r-sz+1)*0.5)\n",
    "    col = int((c-sz+1)*0.5)\n",
    "    img = img[:, row:row+sz, col:col+sz]    \n",
    "    return img"
   ]
  },
  {
   "cell_type": "code",
   "execution_count": 17,
   "metadata": {},
   "outputs": [
    {
     "data": {
      "text/plain": [
       "tensor([0.0013, 0.9987])"
      ]
     },
     "execution_count": 17,
     "metadata": {},
     "output_type": "execute_result"
    }
   ],
   "source": [
    "fastai_img = preprocess(fastai_img, 256) * 255.0\n",
    "with torch.no_grad():\n",
    "    input_tensor = scale_layer(fastai_img)\n",
    "    result = fastai_model(input_tensor)\n",
    "    result = softmax_layer(result)[0]\n",
    "    \n",
    "result"
   ]
  },
  {
   "cell_type": "code",
   "execution_count": 23,
   "metadata": {},
   "outputs": [
    {
     "data": {
      "text/plain": [
       "[array([[0.001281, 0.998719]], dtype=float32)]"
      ]
     },
     "execution_count": 23,
     "metadata": {},
     "output_type": "execute_result"
    }
   ],
   "source": [
    "onnx_result = session.run([], {input_name: fastai_img.numpy()})\n",
    "onnx_result"
   ]
  },
  {
   "cell_type": "code",
   "execution_count": 24,
   "metadata": {},
   "outputs": [
    {
     "data": {
      "text/plain": [
       "(1106, 762)"
      ]
     },
     "execution_count": 24,
     "metadata": {},
     "output_type": "execute_result"
    }
   ],
   "source": [
    "image = Image.open('pneumonia.jpeg')\n",
    "image = image.convert(mode='RGB')\n",
    "image.size"
   ]
  },
  {
   "cell_type": "code",
   "execution_count": 25,
   "metadata": {},
   "outputs": [
    {
     "data": {
      "text/plain": [
       "(372, 256)"
      ]
     },
     "execution_count": 25,
     "metadata": {},
     "output_type": "execute_result"
    }
   ],
   "source": [
    "sz = 256\n",
    "r, c = image.size\n",
    "ratio = min(r/sz, c/sz)\n",
    "r, c = int(round(r/ratio)), int(round(c/ratio))\n",
    "image = image.resize((r, c), resample = Image.BILINEAR)\n",
    "image.size"
   ]
  },
  {
   "cell_type": "code",
   "execution_count": 26,
   "metadata": {},
   "outputs": [
    {
     "data": {
      "text/plain": [
       "(3, 256, 372)"
      ]
     },
     "execution_count": 26,
     "metadata": {},
     "output_type": "execute_result"
    }
   ],
   "source": [
    "image_data = np.array(image).transpose(2, 0, 1).astype('float32')\n",
    "image_data.shape"
   ]
  },
  {
   "cell_type": "code",
   "execution_count": 27,
   "metadata": {},
   "outputs": [
    {
     "data": {
      "text/plain": [
       "(3, 256, 256)"
      ]
     },
     "execution_count": 27,
     "metadata": {},
     "output_type": "execute_result"
    }
   ],
   "source": [
    "r, c = c, r\n",
    "row = int((r-sz+1)*0.5)\n",
    "col = int((c-sz+1)*0.5)\n",
    "image_data = image_data[:, row:row+sz, col:col+sz]\n",
    "image_data.shape"
   ]
  },
  {
   "cell_type": "code",
   "execution_count": 28,
   "metadata": {},
   "outputs": [
    {
     "data": {
      "text/plain": [
       "[array([[0.007556, 0.992444]], dtype=float32)]"
      ]
     },
     "execution_count": 28,
     "metadata": {},
     "output_type": "execute_result"
    }
   ],
   "source": [
    "onnx_result = session.run([], {input_name: image_data})\n",
    "onnx_result"
   ]
  }
 ],
 "metadata": {
  "kernelspec": {
   "display_name": "Python 3",
   "language": "python",
   "name": "python3"
  },
  "language_info": {
   "codemirror_mode": {
    "name": "ipython",
    "version": 3
   },
   "file_extension": ".py",
   "mimetype": "text/x-python",
   "name": "python",
   "nbconvert_exporter": "python",
   "pygments_lexer": "ipython3",
   "version": "3.7.7"
  }
 },
 "nbformat": 4,
 "nbformat_minor": 4
}
