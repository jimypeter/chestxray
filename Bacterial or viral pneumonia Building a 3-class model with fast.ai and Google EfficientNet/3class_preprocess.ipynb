{
 "cells": [
  {
   "cell_type": "code",
   "execution_count": 10,
   "metadata": {},
   "outputs": [],
   "source": [
    "from fastai.vision import *\n",
    "import glob\n",
    "import shutil"
   ]
  },
  {
   "cell_type": "code",
   "execution_count": 11,
   "metadata": {},
   "outputs": [
    {
     "name": "stdout",
     "output_type": "stream",
     "text": [
      "/media/yyang/data/pneumonia/3class/chest_xray/train\n",
      "3875\n",
      "/media/yyang/data/pneumonia/3class\n"
     ]
    }
   ],
   "source": [
    "%cd ./chest_xray/train/\n",
    "\n",
    "!mv PNEUMONIA BACTERIA\n",
    "!mkdir VIRUS\n",
    "\n",
    "files = glob.glob('./BACTERIA/*.jpeg')\n",
    "\n",
    "for file in files:\n",
    "    if 'virus' in file:\n",
    "        shutil.move(file, './VIRUS/')\n",
    "\n",
    "%cd ../.."
   ]
  },
  {
   "cell_type": "code",
   "execution_count": 12,
   "metadata": {},
   "outputs": [
    {
     "name": "stdout",
     "output_type": "stream",
     "text": [
      "/media/yyang/data/pneumonia/3class/chest_xray/test\n",
      "390\n",
      "/media/yyang/data/pneumonia/3class\n"
     ]
    }
   ],
   "source": [
    "%cd ./chest_xray/test/\n",
    "\n",
    "!mv PNEUMONIA BACTERIA\n",
    "!mkdir VIRUS\n",
    "\n",
    "files = glob.glob('./BACTERIA/*.jpeg')\n",
    "\n",
    "for file in files:\n",
    "    if 'virus' in file:\n",
    "        shutil.move(file, './VIRUS/')\n",
    "\n",
    "%cd ../.."
   ]
  },
  {
   "cell_type": "code",
   "execution_count": null,
   "metadata": {},
   "outputs": [],
   "source": [
    "data_path = Path('./chest_xray').absolute()\n",
    "model_path = Path('./model').absolute()"
   ]
  }
 ],
 "metadata": {
  "kernelspec": {
   "display_name": "Python 3",
   "language": "python",
   "name": "python3"
  },
  "language_info": {
   "codemirror_mode": {
    "name": "ipython",
    "version": 3
   },
   "file_extension": ".py",
   "mimetype": "text/x-python",
   "name": "python",
   "nbconvert_exporter": "python",
   "pygments_lexer": "ipython3",
   "version": "3.7.6"
  }
 },
 "nbformat": 4,
 "nbformat_minor": 4
}
